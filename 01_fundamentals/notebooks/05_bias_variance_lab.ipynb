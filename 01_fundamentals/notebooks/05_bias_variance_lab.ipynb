{
 "cells": [
  {
   "cell_type": "markdown",
   "metadata": {},
   "source": [
    "# Bias-Variance Tradeoff Lab\n",
    "\n",
    "In this lab, we will explore the bias-variance tradeoff, a fundamental concept in machine learning that helps us understand the performance of our models. We will implement examples to visualize how bias and variance affect model performance."
   ]
  },
  {
   "cell_type": "code",
   "execution_count": 1,
   "metadata": {},
   "outputs": [],
   "source": [
    "# Import necessary libraries\n",
    "import numpy as np\n",
    "import matplotlib.pyplot as plt\n",
    "from sklearn.datasets import make_moons\n",
    "from sklearn.model_selection import train_test_split\n",
    "from sklearn.tree import DecisionTreeClassifier\n",
    "from sklearn.metrics import accuracy_score\n",
    "\n",
    "# Create a synthetic dataset\n",
    "X, y = make_moons(n_samples=100, noise=0.2, random_state=42)\n",
    "X_train, X_test, y_train, y_test = train_test_split(X, y, test_size=0.3, random_state=42)\n",
    "\n",
    "# Function to plot decision boundaries\n",
    "def plot_decision_boundary(clf, X, y):\n",
    "    x_min, x_max = X[:, 0].min() - 1, X[:, 0].max() + 1\n",
    "    y_min, y_max = X[:, 1].min() - 1, X[:, 1].max() + 1\n",
    "    xx, yy = np.meshgrid(np.arange(x_min, x_max, 0.01), np.arange(y_min, y_max, 0.01))\n",
    "    Z = clf.predict(np.c_[xx.ravel(), yy.ravel()])\n",
    "    Z = Z.reshape(xx.shape)\n",
    "    plt.contourf(xx, yy, Z, alpha=0.8)\n",
    "    plt.scatter(X[:, 0], X[:, 1], c=y, edgecolors='k', marker='o')\n",
    "    plt.title('Decision Boundary')\n",
    "    plt.xlabel('Feature 1')\n",
    "    plt.ylabel('Feature 2')\n",
    "    plt.show()\n"
   ]
  },
  {
   "cell_type": "markdown",
   "metadata": {},
   "source": [
    "## Understanding Bias and Variance\n",
    "\n",
    "In this section, we will train models with different complexities and observe how the bias and variance change. We will use a decision tree classifier with varying depths to illustrate this.\n"
   ]
  },
  {
   "cell_type": "code",
   "execution_count": 2,
   "metadata": {},
   "outputs": [],
   "source": [
    "# Train models with different complexities\n",
    "depths = [1, 3, 5, 10]\n",
    "plt.figure(figsize=(15, 10))\n",
    "\n",
    "for i, depth in enumerate(depths):\n",
    "    clf = DecisionTreeClassifier(max_depth=depth)\n",
    "    clf.fit(X_train, y_train)\n",
    "    y_pred = clf.predict(X_test)\n",
    "    accuracy = accuracy_score(y_test, y_pred)\n",
    "    plt.subplot(2, 2, i + 1)\n",
    "    plot_decision_boundary(clf, X_test, y_test)\n",
    "    plt.title(f'Decision Tree Depth: {depth}, Accuracy: {accuracy:.2f}')\n",
    "\n",
    "plt.tight_layout()\n",
    "plt.show()\n"
   ]
  },
  {
   "cell_type": "markdown",
   "metadata": {},
   "source": [
    "## Analysis\n",
    "\n",
    "After running the above code, observe how the decision boundaries change with different depths of the decision tree. \n",
    "- **Low Depth (High Bias)**: The model is too simple and cannot capture the underlying patterns (underfitting).\n",
    "- **Optimal Depth**: The model captures the patterns well without being too complex.\n",
    "- **High Depth (High Variance)**: The model is too complex and captures noise in the data (overfitting).\n",
    "\n",
    "This illustrates the bias-variance tradeoff: as we increase model complexity, bias decreases but variance increases."
   ]
  },
  {
   "cell_type": "markdown",
   "metadata": {},
   "source": [
    "## Conclusion\n",
    "\n",
    "In this lab, we visualized the bias-variance tradeoff using decision trees. Understanding this tradeoff is crucial for selecting the right model complexity to achieve optimal performance."
   ]
  }
 ],
 "metadata": {
  "kernelspec": {
   "display_name": "Python 3",
   "language": "python",
   "name": "python3"
  },
  "language_info": {
   "codemirror_mode": {
    "name": "ipython",
    "version": 3
   },
   "file_extension": ".py",
   "mimetype": "text/x-python",
   "name": "python",
   "nbconvert_exporter": "python",
   "pygments_lexer": "ipython3",
   "version": "3.8.5"
  }
 },
 "nbformat": 4,
 "nbformat_minor": 4
}