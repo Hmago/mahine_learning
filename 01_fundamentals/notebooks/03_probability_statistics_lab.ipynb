{
 "cells": [
  {
   "cell_type": "markdown",
   "metadata": {},
   "source": [
    "# Probability and Statistics Lab\n",
    "\n",
    "In this lab, we will explore fundamental concepts of probability and statistics that are essential for understanding machine learning algorithms. We will cover basic probability, distributions, statistical inference, and Bayesian concepts through practical examples and exercises."
   ]
  },
  {
   "cell_type": "code",
   "execution_count": null,
   "metadata": {
    "collapsed": false
   },
   "outputs": [],
   "source": [
    "# Import necessary libraries\n",
    "import numpy as np\n",
    "import pandas as pd\n",
    "import matplotlib.pyplot as plt\n",
    "import seaborn as sns\n",
    "\n",
    "# Set the style for seaborn\n",
    "sns.set(style='whitegrid')"
   ]
  },
  {
   "cell_type": "markdown",
   "metadata": {},
   "source": [
    "## 1. Basic Probability\n",
    "\n",
    "Let's start with some basic probability concepts. We will calculate the probability of events using simple examples."
   ]
  },
  {
   "cell_type": "code",
   "execution_count": null,
   "metadata": {
    "collapsed": false
   },
   "outputs": [],
   "source": [
    "# Example: Probability of rolling a die\n",
    "def probability_of_event(event_outcomes, total_outcomes):\n",
    "    return event_outcomes / total_outcomes\n",
    "\n",
    "# Probability of rolling a 3 on a die\n",
    "event_outcomes = 1  # Only one way to roll a 3\n",
    "total_outcomes = 6  # Total outcomes on a die\n",
    "probability = probability_of_event(event_outcomes, total_outcomes)\n",
    "print(f'Probability of rolling a 3: {probability}')"
   ]
  },
  {
   "cell_type": "markdown",
   "metadata": {},
   "source": [
    "## 2. Probability Distributions\n",
    "\n",
    "Next, we will explore common probability distributions such as the normal distribution and visualize them."
   ]
  },
  {
   "cell_type": "code",
   "execution_count": null,
   "metadata": {
    "collapsed": false
   },
   "outputs": [],
   "source": [
    "# Example: Normal Distribution\n",
    "mu, sigma = 0, 0.1  # mean and standard deviation\n",
    "s = np.random.normal(mu, sigma, 1000)\n",
    "\n",
    "# Plotting the distribution\n",
    "plt.figure(figsize=(10, 6))\n",
    "sns.histplot(s, bins=30, kde=True)\n",
    "plt.title('Normal Distribution')\n",
    "plt.xlabel('Value')\n",
    "plt.ylabel('Frequency')\n",
    "plt.show()"
   ]
  },
  {
   "cell_type": "markdown",
   "metadata": {},
   "source": [
    "## 3. Statistical Inference\n",
    "\n",
    "We will perform a simple hypothesis test to understand statistical inference."
   ]
  },
  {
   "cell_type": "code",
   "execution_count": null,
   "metadata": {
    "collapsed": false
   },
   "outputs": [],
   "source": [
    "# Example: Hypothesis Testing\n",
    "from scipy import stats\n",
    "\n",
    "# Sample data\n",
    "data = [2.5, 2.7, 3.0, 3.1, 2.9, 3.3, 2.8]\n",
    "population_mean = 3.0\n",
    "\n",
    "# Perform t-test\n",
    "t_statistic, p_value = stats.ttest_1samp(data, population_mean)\n",
    "print(f'T-statistic: {t_statistic}, P-value: {p_value}')"
   ]
  },
  {
   "cell_type": "markdown",
   "metadata": {},
   "source": [
    "## 4. Bayesian Concepts\n",
    "\n",
    "Finally, we will explore Bayesian concepts and how they differ from traditional statistics."
   ]
  },
  {
   "cell_type": "code",
   "execution_count": null,
   "metadata": {
    "collapsed": false
   },
   "outputs": [],
   "source": [
    "# Example: Bayesian Update\n",
    "def bayesian_update(prior, likelihood, evidence):\n",
    "    return (likelihood * prior) / evidence\n",
    "\n",
    "# Prior probability, likelihood, and evidence\n",
    "prior = 0.3  # Prior probability of event\n",
    "likelihood = 0.8  # Likelihood of evidence given event\n",
    "evidence = 0.5  # Total probability of evidence\n",
    "\n",
    "# Calculate posterior probability\n",
    "posterior = bayesian_update(prior, likelihood, evidence)\n",
    "print(f'Posterior Probability: {posterior}')"
   ]
  },
  {
   "cell_type": "markdown",
   "metadata": {},
   "source": [
    "## Conclusion\n",
    "\n",
    "In this lab, we covered the basics of probability and statistics, including probability calculations, distributions, statistical inference, and Bayesian concepts. These foundations are crucial for understanding and applying machine learning algorithms effectively."
   ]
  }
 ],
 "metadata": {
  "kernelspec": {
   "display_name": "Python 3",
   "language": "python",
   "name": "python3"
  },
  "language_info": {
   "codemirror_mode": {
    "name": "ipython",
    "version": 3
   },
   "file_extension": ".py",
   "mimetype": "text/x-python",
   "name": "python",
   "nbconvert_exporter": "python",
   "pygments_lexer": "ipython3",
   "version": "3.8.5"
  }
 },
 "nbformat": 4,
 "nbformat_minor": 4
}