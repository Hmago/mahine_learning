{
 "cells": [
  {
   "cell_type": "markdown",
   "metadata": {},
   "source": [
    "# Linear Algebra Lab\n",
    "\n",
    "In this lab, we will explore the fundamental concepts of linear algebra that are essential for understanding machine learning. We will cover vectors, matrices, eigenvalues, and vector spaces through practical examples and exercises."
   ]
  },
  {
   "cell_type": "code",
   "execution_count": null,
   "metadata": {
    "collapsed": false
   },
   "outputs": [],
   "source": [
    "# Import necessary libraries\n",
    "import numpy as np\n",
    "import matplotlib.pyplot as plt\n",
    "\n",
    "# Set up a random seed for reproducibility\n",
    "np.random.seed(42)\n",
    "\n",
    "# Example 1: Vectors\n",
    "# Create two vectors\n",
    "vector_a = np.array([1, 2, 3])\n",
    "vector_b = np.array([4, 5, 6])\n",
    "\n",
    "# Vector addition\n",
    "vector_sum = vector_a + vector_b\n",
    "print(\"Vector Sum:\", vector_sum)\n",
    "\n",
    "# Dot product\n",
    "dot_product = np.dot(vector_a, vector_b)\n",
    "print(\"Dot Product:\", dot_product)\n",
    "\n",
    "# Example 2: Matrices\n",
    "# Create a 2x2 matrix\n",
    "matrix_a = np.array([[1, 2], [3, 4]])\n",
    "matrix_b = np.array([[5, 6], [7, 8]])\n",
    "\n",
    "# Matrix multiplication\n",
    "matrix_product = np.dot(matrix_a, matrix_b)\n",
    "print(\"Matrix Product:\", matrix_product)\n",
    "\n",
    "# Example 3: Eigenvalues and Eigenvectors\n",
    "# Create a square matrix\n",
    "matrix_c = np.array([[4, 2], [1, 3]])\n",
    "\n",
    "# Calculate eigenvalues and eigenvectors\n",
    "eigenvalues, eigenvectors = np.linalg.eig(matrix_c)\n",
    "print(\"Eigenvalues:\", eigenvalues)\n",
    "print(\"Eigenvectors:\", eigenvectors)\n",
    "\n",
    "# Example 4: Visualizing Vectors\n",
    "# Create a figure\n",
    "plt.figure(figsize=(8, 8))\n",
    "\n",
    "# Plot vector_a\n",
    "plt.quiver(0, 0, vector_a[0], vector_a[1], angles='xy', scale_units='xy', scale=1, color='r', label='Vector A')\n",
    "\n",
    "# Plot vector_b\n",
    "plt.quiver(0, 0, vector_b[0], vector_b[1], angles='xy', scale_units='xy', scale=1, color='b', label='Vector B')\n",
    "\n",
    "# Set limits and labels\n",
    "plt.xlim(-1, 7)\n",
    "plt.ylim(-1, 7)\n",
    "plt.axhline(0, color='black',linewidth=0.5, ls='--')\n",
    "plt.axvline(0, color='black',linewidth=0.5, ls='--')\n",
    "plt.grid(color = 'gray', linestyle = '--', linewidth = 0.5)\n",
    "plt.title('Vector Visualization')\n",
    "plt.legend()\n",
    "plt.show()"
   ]
  },
  {
   "cell_type": "markdown",
   "metadata": {},
   "source": [
    "## Exercises\n",
    "1. Create two new vectors and perform addition and dot product.\n",
    "2. Create two matrices and perform matrix multiplication.\n",
    "3. Find the eigenvalues and eigenvectors of a 3x3 matrix of your choice.\n",
    "4. Visualize two new vectors in a 2D space."
   ]
  }
 ],
 "metadata": {
  "kernelspec": {
   "display_name": "Python 3",
   "language": "python",
   "name": "python3"
  },
  "language_info": {
   "codemirror_mode": {
    "name": "ipython",
    "version": 3
   },
   "file_extension": ".py",
   "mimetype": "text/x-python",
   "name": "python",
   "nbconvert_exporter": "python",
   "pygments_lexer": "ipython3",
   "version": "3.8.5"
  }
 },
 "nbformat": 4,
 "nbformat_minor": 4
}